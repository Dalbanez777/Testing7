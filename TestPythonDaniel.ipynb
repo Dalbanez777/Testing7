{
 "cells": [
  {
   "cell_type": "code",
   "execution_count": 3,
   "id": "55740d6e",
   "metadata": {},
   "outputs": [
    {
     "name": "stdout",
     "output_type": "stream",
     "text": [
      "Hello World of Daniel\n"
     ]
    }
   ],
   "source": [
    "print(\"Hello World of Daniel\")"
   ]
  },
  {
   "cell_type": "code",
   "execution_count": 7,
   "id": "7e729dea",
   "metadata": {},
   "outputs": [
    {
     "name": "stdout",
     "output_type": "stream",
     "text": [
      "Hello \n",
      "world \n",
      "of \n",
      "Daniel\n"
     ]
    }
   ],
   "source": [
    "print(\"Hello \\nworld \\nof \\nDaniel\")"
   ]
  },
  {
   "cell_type": "code",
   "execution_count": 8,
   "id": "994367a4",
   "metadata": {},
   "outputs": [],
   "source": [
    "#Testing Hello world of Daniel"
   ]
  },
  {
   "cell_type": "code",
   "execution_count": 12,
   "id": "3652ed9d",
   "metadata": {},
   "outputs": [
    {
     "name": "stdout",
     "output_type": "stream",
     "text": [
      "Hello \n",
      "world\n",
      "of\n",
      "Daniel\n"
     ]
    }
   ],
   "source": [
    "print(\"\"\"Hello \n",
    "world\n",
    "of\n",
    "Daniel\"\"\")"
   ]
  },
  {
   "cell_type": "code",
   "execution_count": 19,
   "id": "7ff2670b",
   "metadata": {},
   "outputs": [
    {
     "name": "stdout",
     "output_type": "stream",
     "text": [
      "Hi Daniel. \n",
      "   Hi Python.\n"
     ]
    }
   ],
   "source": [
    "print(\"Hi Daniel. \\n   \" + \"Hi Python.\")"
   ]
  },
  {
   "cell_type": "code",
   "execution_count": 22,
   "id": "530dd186",
   "metadata": {},
   "outputs": [
    {
     "name": "stdout",
     "output_type": "stream",
     "text": [
      "Daniel\n",
      "Daniel\n",
      "Daniel\n",
      "Daniel\n",
      "Daniel\n",
      "Daniel\n",
      "Daniel\n",
      "Daniel\n",
      "Daniel\n",
      "Daniel\n",
      "Daniel\n",
      "Daniel\n",
      "Daniel\n",
      "Daniel\n",
      "Daniel\n",
      "Daniel\n",
      "Daniel\n",
      "Daniel\n",
      "Daniel\n",
      "Daniel\n",
      "\n"
     ]
    }
   ],
   "source": [
    "print(\"Daniel\\n\" * 20)"
   ]
  },
  {
   "cell_type": "code",
   "execution_count": null,
   "id": "43b2cdd4",
   "metadata": {},
   "outputs": [],
   "source": []
  }
 ],
 "metadata": {
  "kernelspec": {
   "display_name": "Python 3",
   "language": "python",
   "name": "python3"
  },
  "language_info": {
   "codemirror_mode": {
    "name": "ipython",
    "version": 3
   },
   "file_extension": ".py",
   "mimetype": "text/x-python",
   "name": "python",
   "nbconvert_exporter": "python",
   "pygments_lexer": "ipython3",
   "version": "3.8.8"
  }
 },
 "nbformat": 4,
 "nbformat_minor": 5
}
